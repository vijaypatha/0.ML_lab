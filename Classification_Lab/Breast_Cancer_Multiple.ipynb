{
 "cells": [
  {
   "cell_type": "markdown",
   "metadata": {},
   "source": [
    "# Classification: Decision Trees and K Nearest Neighbors"
   ]
  },
  {
   "cell_type": "markdown",
   "metadata": {},
   "source": [
    "1. Introduction\n",
    "2. Decision Tree\n",
    "3. Nearest Neighbors Method\n",
    "4. Choosing Model Parameters and Cross-Validation\n",
    "5. Application Examples and Complex Cases\n",
    "6. Pros and Cons of Decision Trees and the Nearest Neighbors Method\n",
    "7. Resources"
   ]
  },
  {
   "cell_type": "markdown",
   "metadata": {},
   "source": [
    "## Introduction"
   ]
  },
  {
   "cell_type": "markdown",
   "metadata": {},
   "source": [
    "A machine learning algorithm is an algorithm that is able to learn patterns (aka. ML task) from data (Experience), measured at performance (P). Our job is to \"tune\" the algoirthm to genralize i.e. to learn the patterns in a way that algorithm will continue to perform well on the new unseen data. "
   ]
  },
  {
   "cell_type": "code",
   "execution_count": null,
   "metadata": {},
   "outputs": [],
   "source": []
  },
  {
   "cell_type": "markdown",
   "metadata": {},
   "source": [
    "## Decision Tree\n",
    "\n",
    "Decision trees are used in everyday life decisions, not just in machine learning. Flow diagrams are actually visual representations of decision trees.\n",
    "\n",
    "\n",
    "### Write about the basics of decision tree learning algoritim"
   ]
  },
  {
   "cell_type": "markdown",
   "metadata": {},
   "source": [
    "## Data and Modules "
   ]
  },
  {
   "cell_type": "markdown",
   "metadata": {},
   "source": [
    "#### Modules"
   ]
  },
  {
   "cell_type": "code",
   "execution_count": 37,
   "metadata": {},
   "outputs": [],
   "source": [
    "import pandas as pd\n",
    "import numpy as np\n",
    "import matplotlib.pyplot as plt\n",
    "from sklearn.datasets import load_breast_cancer\n",
    "from sklearn.metrics import confusion_matrix,classification_report,roc_auc_score,roc_curve\n",
    "from sklearn.model_selection import train_test_split,cross_val_score,GridSearchCV,RandomizedSearchCV"
   ]
  },
  {
   "cell_type": "markdown",
   "metadata": {},
   "source": [
    "#### Data | Defining features (X) and Lables (y) | Train and Test sets"
   ]
  },
  {
   "cell_type": "code",
   "execution_count": 7,
   "metadata": {},
   "outputs": [
    {
     "data": {
      "text/plain": [
       "sklearn.utils.Bunch"
      ]
     },
     "execution_count": 7,
     "metadata": {},
     "output_type": "execute_result"
    }
   ],
   "source": [
    "cancer = load_breast_cancer()\n",
    "type(cancer)"
   ]
  },
  {
   "cell_type": "code",
   "execution_count": 11,
   "metadata": {},
   "outputs": [
    {
     "name": "stdout",
     "output_type": "stream",
     "text": [
      "['DESCR', 'data', 'feature_names', 'filename', 'target', 'target_names']\n"
     ]
    }
   ],
   "source": [
    "print(dir(cancer))"
   ]
  },
  {
   "cell_type": "code",
   "execution_count": 15,
   "metadata": {},
   "outputs": [],
   "source": [
    "X = cancer.data\n",
    "y = cancer.target"
   ]
  },
  {
   "cell_type": "code",
   "execution_count": 22,
   "metadata": {},
   "outputs": [],
   "source": [
    "X_train, X_test, y_train, y_test = train_test_split(X,y,test_size=0.33,random_state=42)"
   ]
  },
  {
   "cell_type": "markdown",
   "metadata": {},
   "source": [
    "#### Classifier without Tuning  (auto picking)"
   ]
  },
  {
   "cell_type": "code",
   "execution_count": 23,
   "metadata": {},
   "outputs": [],
   "source": [
    "from sklearn.tree import DecisionTreeClassifier"
   ]
  },
  {
   "cell_type": "code",
   "execution_count": 24,
   "metadata": {},
   "outputs": [],
   "source": [
    "clf_tree = DecisionTreeClassifier()"
   ]
  },
  {
   "cell_type": "code",
   "execution_count": 25,
   "metadata": {},
   "outputs": [
    {
     "data": {
      "text/plain": [
       "DecisionTreeClassifier(class_weight=None, criterion='gini', max_depth=None,\n",
       "                       max_features=None, max_leaf_nodes=None,\n",
       "                       min_impurity_decrease=0.0, min_impurity_split=None,\n",
       "                       min_samples_leaf=1, min_samples_split=2,\n",
       "                       min_weight_fraction_leaf=0.0, presort=False,\n",
       "                       random_state=None, splitter='best')"
      ]
     },
     "execution_count": 25,
     "metadata": {},
     "output_type": "execute_result"
    }
   ],
   "source": [
    "clf_tree.fit(X_train,y_train)"
   ]
  },
  {
   "cell_type": "code",
   "execution_count": 48,
   "metadata": {},
   "outputs": [
    {
     "data": {
      "text/plain": [
       "[Text(180.27692307692308, 203.85, 'X[7] <= 0.051\\ngini = 0.471\\nsamples = 381\\nvalue = [145, 236]'),\n",
       " Text(122.33076923076923, 176.67000000000002, 'X[20] <= 16.83\\ngini = 0.098\\nsamples = 233\\nvalue = [12, 221]'),\n",
       " Text(90.13846153846154, 149.49, 'X[10] <= 0.626\\ngini = 0.045\\nsamples = 219\\nvalue = [5, 214]'),\n",
       " Text(64.38461538461539, 122.31, 'X[24] <= 0.178\\ngini = 0.027\\nsamples = 216\\nvalue = [3, 213]'),\n",
       " Text(51.50769230769231, 95.13, 'X[14] <= 0.003\\ngini = 0.018\\nsamples = 215\\nvalue = [2, 213]'),\n",
       " Text(25.753846153846155, 67.94999999999999, 'X[19] <= 0.001\\ngini = 0.375\\nsamples = 4\\nvalue = [1, 3]'),\n",
       " Text(12.876923076923077, 40.77000000000001, 'gini = 0.0\\nsamples = 1\\nvalue = [1, 0]'),\n",
       " Text(38.63076923076923, 40.77000000000001, 'gini = 0.0\\nsamples = 3\\nvalue = [0, 3]'),\n",
       " Text(77.26153846153846, 67.94999999999999, 'X[21] <= 33.35\\ngini = 0.009\\nsamples = 211\\nvalue = [1, 210]'),\n",
       " Text(64.38461538461539, 40.77000000000001, 'gini = 0.0\\nsamples = 199\\nvalue = [0, 199]'),\n",
       " Text(90.13846153846154, 40.77000000000001, 'X[1] <= 23.2\\ngini = 0.153\\nsamples = 12\\nvalue = [1, 11]'),\n",
       " Text(77.26153846153846, 13.590000000000003, 'gini = 0.0\\nsamples = 1\\nvalue = [1, 0]'),\n",
       " Text(103.01538461538462, 13.590000000000003, 'gini = 0.0\\nsamples = 11\\nvalue = [0, 11]'),\n",
       " Text(77.26153846153846, 95.13, 'gini = 0.0\\nsamples = 1\\nvalue = [1, 0]'),\n",
       " Text(115.8923076923077, 122.31, 'X[18] <= 0.025\\ngini = 0.444\\nsamples = 3\\nvalue = [2, 1]'),\n",
       " Text(103.01538461538462, 95.13, 'gini = 0.0\\nsamples = 2\\nvalue = [2, 0]'),\n",
       " Text(128.76923076923077, 95.13, 'gini = 0.0\\nsamples = 1\\nvalue = [0, 1]'),\n",
       " Text(154.52307692307693, 149.49, 'X[26] <= 0.221\\ngini = 0.5\\nsamples = 14\\nvalue = [7, 7]'),\n",
       " Text(141.64615384615385, 122.31, 'gini = 0.0\\nsamples = 5\\nvalue = [0, 5]'),\n",
       " Text(167.4, 122.31, 'X[1] <= 15.805\\ngini = 0.346\\nsamples = 9\\nvalue = [7, 2]'),\n",
       " Text(154.52307692307693, 95.13, 'gini = 0.0\\nsamples = 2\\nvalue = [0, 2]'),\n",
       " Text(180.27692307692308, 95.13, 'gini = 0.0\\nsamples = 7\\nvalue = [7, 0]'),\n",
       " Text(238.22307692307692, 176.67000000000002, 'X[22] <= 90.38\\ngini = 0.182\\nsamples = 148\\nvalue = [133, 15]'),\n",
       " Text(206.03076923076924, 149.49, 'X[16] <= 0.03\\ngini = 0.219\\nsamples = 8\\nvalue = [1, 7]'),\n",
       " Text(193.15384615384616, 122.31, 'gini = 0.0\\nsamples = 1\\nvalue = [1, 0]'),\n",
       " Text(218.90769230769232, 122.31, 'gini = 0.0\\nsamples = 7\\nvalue = [0, 7]'),\n",
       " Text(270.4153846153846, 149.49, 'X[26] <= 0.216\\ngini = 0.108\\nsamples = 140\\nvalue = [132, 8]'),\n",
       " Text(244.66153846153847, 122.31, 'X[2] <= 108.0\\ngini = 0.32\\nsamples = 5\\nvalue = [1, 4]'),\n",
       " Text(231.7846153846154, 95.13, 'gini = 0.0\\nsamples = 4\\nvalue = [0, 4]'),\n",
       " Text(257.53846153846155, 95.13, 'gini = 0.0\\nsamples = 1\\nvalue = [1, 0]'),\n",
       " Text(296.1692307692308, 122.31, 'X[1] <= 11.585\\ngini = 0.058\\nsamples = 135\\nvalue = [131, 4]'),\n",
       " Text(283.2923076923077, 95.13, 'gini = 0.0\\nsamples = 2\\nvalue = [0, 2]'),\n",
       " Text(309.04615384615386, 95.13, 'X[19] <= 0.013\\ngini = 0.03\\nsamples = 133\\nvalue = [131, 2]'),\n",
       " Text(296.1692307692308, 67.94999999999999, 'X[23] <= 591.45\\ngini = 0.015\\nsamples = 132\\nvalue = [131, 1]'),\n",
       " Text(283.2923076923077, 40.77000000000001, 'X[15] <= 0.042\\ngini = 0.444\\nsamples = 3\\nvalue = [2, 1]'),\n",
       " Text(270.4153846153846, 13.590000000000003, 'gini = 0.0\\nsamples = 1\\nvalue = [0, 1]'),\n",
       " Text(296.1692307692308, 13.590000000000003, 'gini = 0.0\\nsamples = 2\\nvalue = [2, 0]'),\n",
       " Text(309.04615384615386, 40.77000000000001, 'gini = 0.0\\nsamples = 129\\nvalue = [129, 0]'),\n",
       " Text(321.9230769230769, 67.94999999999999, 'gini = 0.0\\nsamples = 1\\nvalue = [0, 1]')]"
      ]
     },
     "execution_count": 48,
     "metadata": {},
     "output_type": "execute_result"
    },
    {
     "data": {
      "image/png": "[encoded data removed]",
      "text/plain": [
       "<Figure size 432x288 with 1 Axes>"
      ]
     },
     "metadata": {
      "needs_background": "light"
     },
     "output_type": "display_data"
    }
   ],
   "source": [
    "from sklearn import tree\n",
    "tree.plot_tree(clf_tree.fit(X_train,y_train)) "
   ]
  },
  {
   "cell_type": "code",
   "execution_count": 26,
   "metadata": {},
   "outputs": [],
   "source": [
    "y_pred = clf_tree.predict(X_test)"
   ]
  },
  {
   "cell_type": "markdown",
   "metadata": {},
   "source": [
    "#### Performance of untuned model"
   ]
  },
  {
   "cell_type": "code",
   "execution_count": 33,
   "metadata": {},
   "outputs": [
    {
     "name": "stdout",
     "output_type": "stream",
     "text": [
      "[[ 62   5]\n",
      " [  8 113]]\n",
      "              precision    recall  f1-score   support\n",
      "\n",
      "           0       0.89      0.93      0.91        67\n",
      "           1       0.96      0.93      0.95       121\n",
      "\n",
      "    accuracy                           0.93       188\n",
      "   macro avg       0.92      0.93      0.93       188\n",
      "weighted avg       0.93      0.93      0.93       188\n",
      "\n"
     ]
    }
   ],
   "source": [
    "print(confusion_matrix(y_test,y_pred))\n",
    "print(classification_report(y_test,y_pred))"
   ]
  },
  {
   "cell_type": "markdown",
   "metadata": {},
   "source": [
    "### Compute predicted probabilities: y_pred_prob"
   ]
  },
  {
   "cell_type": "code",
   "execution_count": 35,
   "metadata": {},
   "outputs": [],
   "source": [
    "y_pred_prob = clf_tree.predict_proba(X_test)[:,1]"
   ]
  },
  {
   "cell_type": "markdown",
   "metadata": {},
   "source": [
    "### RoC Curve"
   ]
  },
  {
   "cell_type": "code",
   "execution_count": 41,
   "metadata": {},
   "outputs": [
    {
     "data": {
      "image/png": "[encoded data removed]",
      "text/plain": [
       "<Figure size 432x288 with 1 Axes>"
      ]
     },
     "metadata": {
      "needs_background": "light"
     },
     "output_type": "display_data"
    }
   ],
   "source": [
    "# Generate ROC curve values: fpr, tpr, thresholds\n",
    "fpr, tpr, thresholds = roc_curve(y_test, y_pred_prob)\n",
    "\n",
    "# Plot ROC curve\n",
    "plt.plot([0, 1], [0, 1], 'k--')\n",
    "plt.plot(fpr, tpr)\n",
    "plt.xlabel('False Positive Rate')\n",
    "plt.ylabel('True Positive Rate')\n",
    "plt.title('ROC Curve')\n",
    "plt.show()"
   ]
  },
  {
   "cell_type": "markdown",
   "metadata": {},
   "source": [
    "### Area Under the Curve"
   ]
  },
  {
   "cell_type": "code",
   "execution_count": 39,
   "metadata": {},
   "outputs": [
    {
     "name": "stdout",
     "output_type": "stream",
     "text": [
      "AUC: 0.9296287159245097\n"
     ]
    }
   ],
   "source": [
    "# Compute and print AUC score\n",
    "print(\"AUC: {}\".format(roc_auc_score(y_test, y_pred_prob)))"
   ]
  },
  {
   "cell_type": "markdown",
   "metadata": {},
   "source": [
    "### How does the model perform if I used kfold on X_train and y_train and use X_test and y_test as holdout set?\n"
   ]
  },
  {
   "cell_type": "code",
   "execution_count": 55,
   "metadata": {},
   "outputs": [
    {
     "name": "stdout",
     "output_type": "stream",
     "text": [
      "Tuned Decision Tree Parameters: {'min_samples_leaf': 1, 'max_features': 9, 'max_depth': None, 'criterion': 'entropy'}\n",
      "Best score is 0.9490333919156415\n"
     ]
    }
   ],
   "source": [
    "# Setup the parameters and distributions to sample from: param_dist\n",
    "param_dist = {\"max_depth\": [3, None],\n",
    "              \"max_features\": [1,9],\n",
    "              \"min_samples_leaf\": [1,9],\n",
    "              \"criterion\": [\"gini\", \"entropy\"]}\n",
    "\n",
    "\n",
    "tree = DecisionTreeClassifier() \n",
    "\n",
    "# Instantiate the RandomizedSearchCV object: tree_cv\n",
    "tree_cv = RandomizedSearchCV(tree, param_dist, cv=5)\n",
    "\n",
    "# Fit it to the data\n",
    "tree_cv.fit(X,y)\n",
    "\n",
    "# Print the tuned parameters and score\n",
    "print(\"Tuned Decision Tree Parameters: {}\".format(tree_cv.best_params_))\n",
    "print(\"Best score is {}\".format(tree_cv.best_score_))"
   ]
  },
  {
   "cell_type": "code",
   "execution_count": 58,
   "metadata": {},
   "outputs": [],
   "source": [
    "y_pred_tune = tree_cv.predict(X_test)"
   ]
  },
  {
   "cell_type": "code",
   "execution_count": 59,
   "metadata": {},
   "outputs": [
    {
     "name": "stdout",
     "output_type": "stream",
     "text": [
      "[[ 67   0]\n",
      " [  0 121]]\n",
      "              precision    recall  f1-score   support\n",
      "\n",
      "           0       1.00      1.00      1.00        67\n",
      "           1       1.00      1.00      1.00       121\n",
      "\n",
      "    accuracy                           1.00       188\n",
      "   macro avg       1.00      1.00      1.00       188\n",
      "weighted avg       1.00      1.00      1.00       188\n",
      "\n"
     ]
    }
   ],
   "source": [
    "print(confusion_matrix(y_test,y_pred_tune))\n",
    "print(classification_report(y_test,y_pred_tune))"
   ]
  },
  {
   "cell_type": "code",
   "execution_count": 60,
   "metadata": {},
   "outputs": [
    {
     "data": {
      "image/png": "[encoded data removed]",
      "text/plain": [
       "<Figure size 432x288 with 1 Axes>"
      ]
     },
     "metadata": {
      "needs_background": "light"
     },
     "output_type": "display_data"
    }
   ],
   "source": [
    "# Generate ROC curve values: fpr, tpr, thresholds\n",
    "fpr, tpr, thresholds = roc_curve(y_test, y_pred_tune)\n",
    "\n",
    "# Plot ROC curve\n",
    "plt.plot([0, 1], [0, 1], 'k--')\n",
    "plt.plot(fpr, tpr)\n",
    "plt.xlabel('False Positive Rate')\n",
    "plt.ylabel('True Positive Rate')\n",
    "plt.title('ROC Curve')\n",
    "plt.show()"
   ]
  },
  {
   "cell_type": "code",
   "execution_count": 61,
   "metadata": {},
   "outputs": [
    {
     "name": "stdout",
     "output_type": "stream",
     "text": [
      "AUC: 1.0\n"
     ]
    }
   ],
   "source": [
    "# Compute and print AUC score\n",
    "print(\"AUC: {}\".format(roc_auc_score(y_test, y_pred_tune)))"
   ]
  },
  {
   "cell_type": "code",
   "execution_count": null,
   "metadata": {},
   "outputs": [],
   "source": []
  }
 ],
 "metadata": {
  "kernelspec": {
   "display_name": "Python 3",
   "language": "python",
   "name": "python3"
  },
  "language_info": {
   "codemirror_mode": {
    "name": "ipython",
    "version": 3
   },
   "file_extension": ".py",
   "mimetype": "text/x-python",
   "name": "python",
   "nbconvert_exporter": "python",
   "pygments_lexer": "ipython3",
   "version": "3.7.4"
  }
 },
 "nbformat": 4,
 "nbformat_minor": 2
}
